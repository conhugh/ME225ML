{
 "cells": [
  {
   "cell_type": "markdown",
   "id": "f5b735da",
   "metadata": {},
   "source": [
    "# Connor Hughes ME 225ML HW2\n",
    "For Parts B, C, and D, please see the PDF submission. My collaborators on this assignment were Gabby Villalpando-Torres and Sasha Davydov. "
   ]
  },
  {
   "cell_type": "code",
   "execution_count": 42,
   "id": "e93baca2",
   "metadata": {},
   "outputs": [
    {
     "name": "stderr",
     "output_type": "stream",
     "text": [
      "C:\\Users\\conno\\anaconda3\\envs\\ME225_ML\\lib\\site-packages\\tensorflow\\python\\client\\session.py:1766: UserWarning: An interactive session is already active. This can cause out-of-memory errors in some cases. You must explicitly call `InteractiveSession.close()` to release resources held by the other session(s).\n",
      "  warnings.warn('An interactive session is already active. This can '\n"
     ]
    }
   ],
   "source": [
    "import os\n",
    "os.environ[\"KMP_DUPLICATE_LIB_OK\"]=\"TRUE\"\n",
    "import tensorflow as tf \n",
    "import scipy.integrate as spi\n",
    "import numpy as np\n",
    "import math\n",
    "import matplotlib.pyplot as plt\n",
    "\n",
    "tf.compat.v1.disable_eager_execution()\n",
    "sess = tf.compat.v1.InteractiveSession()"
   ]
  },
  {
   "cell_type": "markdown",
   "id": "fbb78c81",
   "metadata": {},
   "source": [
    "## Part A:"
   ]
  },
  {
   "cell_type": "markdown",
   "id": "6ae8dac9",
   "metadata": {},
   "source": [
    "### Simulate the ODE:"
   ]
  },
  {
   "cell_type": "code",
   "execution_count": 43,
   "id": "21e77684",
   "metadata": {},
   "outputs": [
    {
     "data": {
      "image/png": "[encoded data removed]",
      "text/plain": [
       "<Figure size 432x288 with 1 Axes>"
      ]
     },
     "metadata": {
      "needs_background": "light"
     },
     "output_type": "display_data"
    }
   ],
   "source": [
    "# Define ODE:\n",
    "def dxdt(self, x):\n",
    "    return -0.3*x[0]\n",
    "\n",
    "# Initial condition:\n",
    "x0 = np.array([1])\n",
    "t_range = np.linspace(0, 10, 100)\n",
    "t_span = (0, 10)\n",
    "\n",
    "# Solve the ODE, simulate over desired 10s time interval:\n",
    "x_traj = spi.solve_ivp(dxdt, t_span, x0, 'RK45', t_range)\n",
    "\n",
    "plt.plot(x_traj.t, np.transpose(x_traj.y))\n",
    "plt.xlabel(\"time (s)\")\n",
    "plt.ylabel(\"x(t)\")\n",
    "plt.title(\"ODE simulated with RK45:\")\n",
    "plt.show()\n"
   ]
  },
  {
   "cell_type": "markdown",
   "id": "9096aadc",
   "metadata": {},
   "source": [
    "### Generate Training and Testing Data:\n",
    "First, we will split the simulated trajectory from above into 50 data points for training and 50 for testing. The input data points and labels are both 1-dimensional. "
   ]
  },
  {
   "cell_type": "code",
   "execution_count": 44,
   "id": "c8b62b39",
   "metadata": {},
   "outputs": [],
   "source": [
    "# Split the input data points into training and testing data\n",
    "x_train = x_traj.t[::2]\n",
    "x_train = np.asarray(x_train,dtype=np.float32)\n",
    "x_train = x_train.reshape(len(x_train), 1)\n",
    "\n",
    "\n",
    "y_train = np.transpose(x_traj.y)[::2]\n",
    "y_train = y_train.reshape(len(y_train), 1)\n",
    "\n",
    "\n",
    "x_test = x_traj.t[1:100:2]\n",
    "x_test = np.asarray(x_test,dtype=np.float32)\n",
    "x_test = x_test.reshape(len(x_test), 1)\n",
    "\n",
    "y_test = np.transpose(x_traj.y)[1:100:2]\n",
    "y_test = y_test.reshape(len(y_test), 1)\n",
    "\n",
    "data_feature_dim = 1\n",
    "label_feature_dim = 1"
   ]
  },
  {
   "cell_type": "markdown",
   "id": "51f65244",
   "metadata": {},
   "source": [
    "### Plot Training Data to sanity check:"
   ]
  },
  {
   "cell_type": "code",
   "execution_count": 45,
   "id": "e81db15a",
   "metadata": {},
   "outputs": [
    {
     "data": {
      "image/png": "[encoded data removed]",
      "text/plain": [
       "<Figure size 432x288 with 1 Axes>"
      ]
     },
     "metadata": {
      "needs_background": "light"
     },
     "output_type": "display_data"
    }
   ],
   "source": [
    "plt.plot(x_train, y_train, marker='.')\n",
    "plt.title('Training Data')\n",
    "plt.xlabel('x_train')\n",
    "plt.ylabel('y_train')\n",
    "plt.show()"
   ]
  },
  {
   "cell_type": "markdown",
   "id": "45f2d6e2",
   "metadata": {},
   "source": [
    "### Define Data Hooks:"
   ]
  },
  {
   "cell_type": "code",
   "execution_count": 46,
   "id": "3d219ebe",
   "metadata": {},
   "outputs": [],
   "source": [
    "X = tf.compat.v1.placeholder(tf.float32,shape=[None,data_feature_dim])  \n",
    "Y = tf.compat.v1.placeholder(tf.float32,shape=[None,label_feature_dim])"
   ]
  },
  {
   "cell_type": "markdown",
   "id": "71999604",
   "metadata": {},
   "source": [
    "### Define Tensorflow Variables:\n",
    "Here, we set the number of nodes in the hidden layer to 20. This value was determined by trial and error during repeated training and testing. The weights and biases are initialized using the Xavier Glorot initialization method. "
   ]
  },
  {
   "cell_type": "code",
   "execution_count": 61,
   "id": "9a9f44df",
   "metadata": {},
   "outputs": [],
   "source": [
    "hidden_feature_dim = 20; "
   ]
  },
  {
   "cell_type": "code",
   "execution_count": 62,
   "id": "78cccb9e",
   "metadata": {},
   "outputs": [],
   "source": [
    "w0 = tf.Variable(tf.random.truncated_normal(shape=(data_feature_dim,hidden_feature_dim),mean=np.random.rand(1,1),\\\n",
    "                                           stddev = math.sqrt(3.0)/(data_feature_dim*hidden_feature_dim)),dtype=np.float32) \n",
    "w1 = tf.Variable(tf.random.truncated_normal(shape=(hidden_feature_dim,label_feature_dim),mean=np.random.rand(1,1),\\\n",
    "                                           stddev = math.sqrt(3.0)/(data_feature_dim*label_feature_dim)),dtype=np.float32)\n",
    "\n",
    "\n",
    "bvec = tf.Variable(tf.random.truncated_normal(shape=(hidden_feature_dim,1),mean=np.random.rand(1,1),\\\n",
    "                                           stddev = math.sqrt(3.0)/2),dtype=np.float32) \n",
    "bscalar = tf.Variable(tf.random.truncated_normal(shape=(1,1),mean=np.random.rand(1,1),\\\n",
    "                                           stddev = math.sqrt(3.0)),dtype=np.float32) "
   ]
  },
  {
   "cell_type": "markdown",
   "id": "47ada8f0",
   "metadata": {},
   "source": [
    "### Define Neural Network Layers:\n",
    "Here, we define our neural network to have only a single hidden layer, wherein each node uses a ReLU activation function. After this hidden layer, we perform another affine transformation with weights and a bias term (which are to be learned) so that we can generate a scalar output as desired. "
   ]
  },
  {
   "cell_type": "code",
   "execution_count": 63,
   "id": "c5c91f22",
   "metadata": {},
   "outputs": [],
   "source": [
    "z = tf.nn.relu(tf.add(tf.matmul(X,w0),tf.transpose(bvec))) \n",
    "yhat = tf.add(tf.matmul(z, w1), bscalar)"
   ]
  },
  {
   "cell_type": "markdown",
   "id": "92a6f488",
   "metadata": {},
   "source": [
    "### Define Loss Function:\n",
    "Here, we use the suggested Loss Function, so that our learning algorithm minimizes the maximum 2-norm between the labels and the values estimated for each of the corresponding input data points. "
   ]
  },
  {
   "cell_type": "code",
   "execution_count": 64,
   "id": "ab097c60",
   "metadata": {},
   "outputs": [],
   "source": [
    "Loss_Function = tf.reduce_max(tf.linalg.norm((yhat)-Y))"
   ]
  },
  {
   "cell_type": "markdown",
   "id": "c5b87be4",
   "metadata": {},
   "source": [
    "### Initialize Variables and Train the Neural Network:\n",
    "Below, we set the learning rate to 0.4, which was selected through trial-and-error during numerous training and testing processes. Additionally, we set the number of epochs to 100,000 -- a value which was chosen such that the training loss converged satisfactorily, after having identified effective choices for the number of nodes and the learning rate. "
   ]
  },
  {
   "cell_type": "code",
   "execution_count": 65,
   "id": "d33443d2",
   "metadata": {},
   "outputs": [],
   "source": [
    "show_every=1000\n",
    "Learning_Rate = 0.4; \n",
    "Session_Optimizer = tf.compat.v1.train.AdagradOptimizer(Learning_Rate).minimize(Loss_Function)\n",
    "result = sess.run(tf.compat.v1.global_variables_initializer())\n",
    "epochs = 100000"
   ]
  },
  {
   "cell_type": "code",
   "execution_count": 66,
   "id": "706900c2",
   "metadata": {},
   "outputs": [
    {
     "name": "stdout",
     "output_type": "stream",
     "text": [
      "Training loss at Epoch #  0 is :  6.81454345703125\n",
      "Training loss at Epoch #  1000 is :  0.01219227910041809\n",
      "Training loss at Epoch #  2000 is :  0.006530978083610535\n",
      "Training loss at Epoch #  3000 is :  0.004639924764633179\n",
      "Training loss at Epoch #  4000 is :  0.003719632625579834\n",
      "Training loss at Epoch #  5000 is :  0.0031842872500419616\n",
      "Training loss at Epoch #  6000 is :  0.0028359419107437133\n",
      "Training loss at Epoch #  7000 is :  0.0025893589854240418\n",
      "Training loss at Epoch #  8000 is :  0.002405630499124527\n",
      "Training loss at Epoch #  9000 is :  0.0022432367503643037\n",
      "Training loss at Epoch #  10000 is :  0.0021217462420463564\n",
      "Training loss at Epoch #  11000 is :  0.002011801302433014\n",
      "Training loss at Epoch #  12000 is :  0.001921193301677704\n",
      "Training loss at Epoch #  13000 is :  0.0018420229852199555\n",
      "Training loss at Epoch #  14000 is :  0.0017775264382362366\n",
      "Training loss at Epoch #  15000 is :  0.001709049493074417\n",
      "Training loss at Epoch #  16000 is :  0.0016449955105781555\n",
      "Training loss at Epoch #  17000 is :  0.0016023679077625274\n",
      "Training loss at Epoch #  18000 is :  0.0015564198791980744\n",
      "Training loss at Epoch #  19000 is :  0.0015099564194679261\n",
      "Training loss at Epoch #  20000 is :  0.0014745184779167175\n",
      "Training loss at Epoch #  21000 is :  0.0014349506795406342\n",
      "Training loss at Epoch #  22000 is :  0.0013972674310207367\n",
      "Training loss at Epoch #  23000 is :  0.0013640360534191132\n",
      "Training loss at Epoch #  24000 is :  0.0013322106003761291\n",
      "Training loss at Epoch #  25000 is :  0.0013029776513576508\n",
      "Training loss at Epoch #  26000 is :  0.0012758669257164\n",
      "Training loss at Epoch #  27000 is :  0.0012512803077697754\n",
      "Training loss at Epoch #  28000 is :  0.0012278180569410325\n",
      "Training loss at Epoch #  29000 is :  0.0012059617042541504\n",
      "Training loss at Epoch #  30000 is :  0.001184849664568901\n",
      "Training loss at Epoch #  31000 is :  0.001165759339928627\n",
      "Training loss at Epoch #  32000 is :  0.0011480072140693666\n",
      "Training loss at Epoch #  33000 is :  0.001130605936050415\n",
      "Training loss at Epoch #  34000 is :  0.0011145510524511338\n",
      "Training loss at Epoch #  35000 is :  0.001098928600549698\n",
      "Training loss at Epoch #  36000 is :  0.001083446741104126\n",
      "Training loss at Epoch #  37000 is :  0.0010697522759437561\n",
      "Training loss at Epoch #  38000 is :  0.0010563432425260543\n",
      "Training loss at Epoch #  39000 is :  0.001044163629412651\n",
      "Training loss at Epoch #  40000 is :  0.00103131502866745\n",
      "Training loss at Epoch #  41000 is :  0.0010198959708213806\n",
      "Training loss at Epoch #  42000 is :  0.0010091472417116166\n",
      "Training loss at Epoch #  43000 is :  0.0009980086982250213\n",
      "Training loss at Epoch #  44000 is :  0.0009876183420419694\n",
      "Training loss at Epoch #  45000 is :  0.000977853387594223\n",
      "Training loss at Epoch #  46000 is :  0.0009685403853654861\n",
      "Training loss at Epoch #  47000 is :  0.0009592627733945847\n",
      "Training loss at Epoch #  48000 is :  0.0009509707987308502\n",
      "Training loss at Epoch #  49000 is :  0.00094255231320858\n",
      "Training loss at Epoch #  50000 is :  0.0009340509027242661\n",
      "Training loss at Epoch #  51000 is :  0.0009260946512222291\n",
      "Training loss at Epoch #  52000 is :  0.0009185886383056641\n",
      "Training loss at Epoch #  53000 is :  0.0009113019704818726\n",
      "Training loss at Epoch #  54000 is :  0.0009041181951761246\n",
      "Training loss at Epoch #  55000 is :  0.0008974465727806092\n",
      "Training loss at Epoch #  56000 is :  0.0008907284587621689\n",
      "Training loss at Epoch #  57000 is :  0.0008843348920345306\n",
      "Training loss at Epoch #  58000 is :  0.0008780878037214279\n",
      "Training loss at Epoch #  59000 is :  0.0008720227330923081\n",
      "Training loss at Epoch #  60000 is :  0.0008661501109600067\n",
      "Training loss at Epoch #  61000 is :  0.0008605151623487472\n",
      "Training loss at Epoch #  62000 is :  0.0008549266308546066\n",
      "Training loss at Epoch #  63000 is :  0.0008496423810720444\n",
      "Training loss at Epoch #  64000 is :  0.0008444671332836152\n",
      "Training loss at Epoch #  65000 is :  0.0008394240587949753\n",
      "Training loss at Epoch #  66000 is :  0.0008345447480678558\n",
      "Training loss at Epoch #  67000 is :  0.0008297897130250931\n",
      "Training loss at Epoch #  68000 is :  0.0008251898735761642\n",
      "Training loss at Epoch #  69000 is :  0.0008206401765346528\n",
      "Training loss at Epoch #  70000 is :  0.0008161614090204239\n",
      "Training loss at Epoch #  71000 is :  0.0008121225982904434\n",
      "Training loss at Epoch #  72000 is :  0.0008079788088798523\n",
      "Training loss at Epoch #  73000 is :  0.0008038050681352615\n",
      "Training loss at Epoch #  74000 is :  0.0007999186962842942\n",
      "Training loss at Epoch #  75000 is :  0.0007960494607686996\n",
      "Training loss at Epoch #  76000 is :  0.0007922417670488358\n",
      "Training loss at Epoch #  77000 is :  0.0007887548953294754\n",
      "Training loss at Epoch #  78000 is :  0.0007853662222623826\n",
      "Training loss at Epoch #  79000 is :  0.0007816825062036514\n",
      "Training loss at Epoch #  80000 is :  0.0007784733176231384\n",
      "Training loss at Epoch #  81000 is :  0.0007752604782581329\n",
      "Training loss at Epoch #  82000 is :  0.0007721143960952759\n",
      "Training loss at Epoch #  83000 is :  0.0007691334933042527\n",
      "Training loss at Epoch #  84000 is :  0.000765763446688652\n",
      "Training loss at Epoch #  85000 is :  0.0007629180699586869\n",
      "Training loss at Epoch #  86000 is :  0.0007599437981843948\n",
      "Training loss at Epoch #  87000 is :  0.0007571236789226532\n",
      "Training loss at Epoch #  88000 is :  0.0007547151297330856\n",
      "Training loss at Epoch #  89000 is :  0.0007521117478609085\n",
      "Training loss at Epoch #  90000 is :  0.0007493650913238526\n",
      "Training loss at Epoch #  91000 is :  0.0007467395812273026\n",
      "Training loss at Epoch #  92000 is :  0.0007440874725580215\n",
      "Training loss at Epoch #  93000 is :  0.0007416794449090958\n",
      "Training loss at Epoch #  94000 is :  0.0007395369559526444\n",
      "Training loss at Epoch #  95000 is :  0.0007371197640895843\n",
      "Training loss at Epoch #  96000 is :  0.000734962522983551\n",
      "Training loss at Epoch #  97000 is :  0.0007327646762132644\n",
      "Training loss at Epoch #  98000 is :  0.000730740949511528\n",
      "Training loss at Epoch #  99000 is :  0.0007284944504499435\n"
     ]
    }
   ],
   "source": [
    "for i in range(epochs):\n",
    "    sess.run(Session_Optimizer,feed_dict={X:x_train,Y:y_train})\n",
    "    if i % show_every ==0: \n",
    "        cur_loss_train = sess.run(Loss_Function,feed_dict={X:x_train,Y:y_train}); \n",
    "#        cur_loss_val = sess.run(Loss_Function,feed_dict={X:x_val,y:y_val}); \n",
    "        print(\"Training loss at Epoch # \", i , \"is : \", cur_loss_train/y_train.shape[0])\n",
    "#        print(\"Validation loss at Epoch # \", i , \"is : \", cur_loss_val/y_val.shape[0])"
   ]
  },
  {
   "cell_type": "markdown",
   "id": "696aba63",
   "metadata": {},
   "source": [
    "### Plot Fit to Training Data:\n",
    "Below, we plot the input and labels from the training data on the same axes as the neural network's estimates of the labels, to visualize the performance of the network. The plot shows that the neural network does well to approximate the desired function over the training data set, as expected. "
   ]
  },
  {
   "cell_type": "code",
   "execution_count": 67,
   "id": "4d1cdd14",
   "metadata": {},
   "outputs": [
    {
     "data": {
      "image/png": "[encoded data removed]",
      "text/plain": [
       "<Figure size 432x288 with 1 Axes>"
      ]
     },
     "metadata": {
      "needs_background": "light"
     },
     "output_type": "display_data"
    }
   ],
   "source": [
    "yhat_train = yhat.eval(feed_dict={X:x_train,Y:y_train})\n",
    "plt.plot(x_train, y_train, marker='.')\n",
    "plt.title('Testing Data')\n",
    "plt.xlabel('x_train')\n",
    "plt.ylabel('y_train')\n",
    "\n",
    "plt.plot(x_train, yhat_train, marker='.')\n",
    "plt.title('Estimate of Training Data')\n",
    "plt.xlabel('x_test')\n",
    "plt.ylabel('yhat')\n",
    "\n",
    "plt.show()"
   ]
  },
  {
   "cell_type": "markdown",
   "id": "adb5d328",
   "metadata": {},
   "source": [
    "### Plot Fit to Testing Data:\n",
    "Below, we compute the neural network's estimates of the labels for the inputs from the testing data set, and plot these alongside the known labels for the testing data set. As shown in the plot below, the network also does well to approximate the desired function over the testing data set. "
   ]
  },
  {
   "cell_type": "code",
   "execution_count": 68,
   "id": "a3f4766b",
   "metadata": {},
   "outputs": [
    {
     "data": {
      "image/png": "[encoded data removed]",
      "text/plain": [
       "<Figure size 432x288 with 1 Axes>"
      ]
     },
     "metadata": {
      "needs_background": "light"
     },
     "output_type": "display_data"
    }
   ],
   "source": [
    "yhat_test = yhat.eval(feed_dict={X:x_test,Y:y_test})\n",
    "plt.plot(x_test, y_test, marker='.')\n",
    "plt.title('Testing Data')\n",
    "plt.xlabel('x_test')\n",
    "plt.ylabel('y_test')\n",
    "\n",
    "plt.plot(x_test, yhat_test, marker='.')\n",
    "plt.title('Estimate of Testing Data')\n",
    "plt.xlabel('x_test')\n",
    "plt.ylabel('yhat')\n",
    "\n",
    "plt.show()"
   ]
  },
  {
   "cell_type": "markdown",
   "id": "fb6dc7cf",
   "metadata": {},
   "source": [
    "### Compute Average Loss Function over Testing Data:\n",
    "Below, we evaluate the average of the 2-norm of the error between the true testing data labels and the predictions generated by the neural network. The final value is approximately 0.00368, which satisfies our performance benchmark of a maximum 2-norm error of 0.005. "
   ]
  },
  {
   "cell_type": "code",
   "execution_count": 69,
   "id": "93388be0",
   "metadata": {},
   "outputs": [
    {
     "name": "stdout",
     "output_type": "stream",
     "text": [
      "0.0036846914873479154\n"
     ]
    }
   ],
   "source": [
    "err = yhat_test - y_test\n",
    "sq_err = np.multiply(err, err)\n",
    "pwr = np.full((len(sq_err), 1), 0.5)\n",
    "rtsq_err = np.power(sq_err, pwr)\n",
    "TestLoss = np.mean(rtsq_err)\n",
    "\n",
    "print(TestLoss)"
   ]
  },
  {
   "cell_type": "markdown",
   "id": "3a231945",
   "metadata": {},
   "source": [
    "### Examine the Learned Weights and Biases:\n",
    "Below, we print out the learned weight vectors and biases which enabled the neural network to accurately approximate the desired function. "
   ]
  },
  {
   "cell_type": "code",
   "execution_count": 70,
   "id": "94e74b2a",
   "metadata": {},
   "outputs": [
    {
     "data": {
      "text/plain": [
       "array([[-0.07879049, -0.10509172, -0.04424781, -0.06509826, -0.03407151,\n",
       "         0.16842546, -0.16891085, -0.08701259,  0.02117357, -0.33708465,\n",
       "         0.06882526,  0.13377638,  0.00232994,  0.17267834,  0.05517942,\n",
       "         0.05118841, -0.03458065, -0.37818533,  0.10841689,  0.08589365]],\n",
       "      dtype=float32)"
      ]
     },
     "execution_count": 70,
     "metadata": {},
     "output_type": "execute_result"
    }
   ],
   "source": [
    "w0.eval()"
   ]
  },
  {
   "cell_type": "code",
   "execution_count": 71,
   "id": "3ba56729",
   "metadata": {},
   "outputs": [
    {
     "data": {
      "text/plain": [
       "array([[ 2.0812938e-01],\n",
       "       [ 1.4236367e+00],\n",
       "       [ 1.4268253e+00],\n",
       "       [ 2.1429482e+00],\n",
       "       [-2.9077837e-01],\n",
       "       [-2.5730661e-01],\n",
       "       [ 2.0045754e-01],\n",
       "       [ 1.6488566e+00],\n",
       "       [ 2.5966363e+00],\n",
       "       [ 1.7165309e-01],\n",
       "       [-1.0067239e+00],\n",
       "       [ 1.3535878e-01],\n",
       "       [ 1.3753768e-03],\n",
       "       [ 3.4606472e-02],\n",
       "       [ 2.2997262e+00],\n",
       "       [-4.9234916e-02],\n",
       "       [ 2.5199144e+00],\n",
       "       [ 2.6335305e-01],\n",
       "       [ 2.6856115e-02],\n",
       "       [-1.7494133e+00]], dtype=float32)"
      ]
     },
     "execution_count": 71,
     "metadata": {},
     "output_type": "execute_result"
    }
   ],
   "source": [
    "w1.eval()"
   ]
  },
  {
   "cell_type": "code",
   "execution_count": 72,
   "id": "68a151ac",
   "metadata": {},
   "outputs": [
    {
     "data": {
      "text/plain": [
       "array([[-5.3601801e-02],\n",
       "       [-7.4867558e-01],\n",
       "       [-3.8137019e-02],\n",
       "       [-1.0557363e+00],\n",
       "       [-4.9971342e-01],\n",
       "       [ 1.1868802e+00],\n",
       "       [ 8.9358628e-01],\n",
       "       [-3.7020725e-01],\n",
       "       [-4.1343197e-01],\n",
       "       [ 1.1667192e+00],\n",
       "       [-8.2408446e-01],\n",
       "       [-9.5189452e-01],\n",
       "       [-1.9466095e-02],\n",
       "       [-1.5107638e+00],\n",
       "       [-6.5293813e-01],\n",
       "       [ 3.0222535e-04],\n",
       "       [-1.1720126e+00],\n",
       "       [ 6.2455076e-01],\n",
       "       [-9.2741472e-01],\n",
       "       [-1.1333020e+00]], dtype=float32)"
      ]
     },
     "execution_count": 72,
     "metadata": {},
     "output_type": "execute_result"
    }
   ],
   "source": [
    "bvec.eval()"
   ]
  },
  {
   "cell_type": "code",
   "execution_count": 73,
   "id": "90b9fa49",
   "metadata": {},
   "outputs": [
    {
     "data": {
      "text/plain": [
       "array([[0.74507546]], dtype=float32)"
      ]
     },
     "execution_count": 73,
     "metadata": {},
     "output_type": "execute_result"
    }
   ],
   "source": [
    "bscalar.eval()"
   ]
  },
  {
   "cell_type": "markdown",
   "id": "a7d97756",
   "metadata": {},
   "source": [
    "### Conclusion:\n",
    "In summary, this was another friendly introduction to the process of training a neural network. We generated training and testing data, selected an architecture for the neural network, utilized Tensorflow to train the network, and evaluated the performance after training. The most challenging aspect was simply experimenting with numerous options for the network architecture, and tuning hyperparameters including the learning rate and the number of epochs such that the desired performance was achieved. "
   ]
  }
 ],
 "metadata": {
  "interpreter": {
   "hash": "457d138367729fa682aa9e5479ceb7b6c1af12cce83c16443a59aa500ab1163b"
  },
  "kernelspec": {
   "display_name": "ME225_ML",
   "language": "python",
   "name": "python3"
  },
  "language_info": {
   "codemirror_mode": {
    "name": "ipython",
    "version": 3
   },
   "file_extension": ".py",
   "mimetype": "text/x-python",
   "name": "python",
   "nbconvert_exporter": "python",
   "pygments_lexer": "ipython3",
   "version": "3.9.7"
  }
 },
 "nbformat": 4,
 "nbformat_minor": 5
}
